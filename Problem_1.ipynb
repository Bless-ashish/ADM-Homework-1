{
  "nbformat": 4,
  "nbformat_minor": 0,
  "metadata": {
    "colab": {
      "provenance": []
    },
    "kernelspec": {
      "name": "python3",
      "display_name": "Python 3"
    },
    "language_info": {
      "name": "python"
    }
  },
  "cells": [
    {
      "cell_type": "code",
      "execution_count": null,
      "metadata": {
        "colab": {
          "base_uri": "https://localhost:8080/"
        },
        "id": "LE_Z90VHuKQA",
        "outputId": "bde652e9-e355-49bb-a051-5a6c9006834b"
      },
      "outputs": [
        {
          "output_type": "stream",
          "name": "stdout",
          "text": [
            "Hello, World!\n"
          ]
        }
      ],
      "source": [
        "\"\"\"\n",
        "                                                                      1. INTRODUCTION \n",
        "                                                              * Say \"Hello, World!\" With Python                                                        \"\"\"\n",
        "\n",
        "if __name__ == '__main__':\n",
        "    print(\"Hello, World!\")\n",
        "\n"
      ]
    },
    {
      "cell_type": "code",
      "source": [
        "\"\"\"                                                                   * Python IF-Else                                                                \"\"\"\n",
        "\n",
        "#!/bin/python3\n",
        "\n",
        "import math\n",
        "import os\n",
        "import random\n",
        "import re\n",
        "import sys\n",
        "\n",
        "\n",
        "\n",
        "if __name__ == '__main__':\n",
        "    n = int(input().strip())\n",
        "    if n%2!=0:\n",
        "        print('Weird')\n",
        "    elif n%2==0 and 2<n<5:\n",
        "        print(\"Not Weird\")\n",
        "    elif n%2==0 and 6<n<21:\n",
        "        print(\"Weird\")\n",
        "    elif n%2==0 and n>21:\n",
        "        print(\"Not Weird\")\n",
        "    \n"
      ],
      "metadata": {
        "colab": {
          "base_uri": "https://localhost:8080/"
        },
        "id": "QtF6wkNaukgG",
        "outputId": "e4eb9b9b-0bc6-4da4-d6fb-75b80372658e"
      },
      "execution_count": null,
      "outputs": [
        {
          "output_type": "stream",
          "name": "stdout",
          "text": [
            "4\n",
            "Not Weird\n"
          ]
        }
      ]
    },
    {
      "cell_type": "code",
      "source": [
        "\"\"\"                                                                   ARITHMETIC OPERATORS                                                            \"\"\"\n",
        "a,b= int(input()) ,int(input())\n",
        "print(a+b,a-b,a*b,sep=\"\\n\")\n",
        "\n"
      ],
      "metadata": {
        "colab": {
          "base_uri": "https://localhost:8080/"
        },
        "id": "gsPM1V3e0jJA",
        "outputId": "fc9b63e8-5451-45db-b2ad-8643af93715a"
      },
      "execution_count": null,
      "outputs": [
        {
          "output_type": "stream",
          "name": "stdout",
          "text": [
            "3\n",
            "5\n",
            "8\n",
            "-2\n",
            "15\n"
          ]
        }
      ]
    },
    {
      "cell_type": "code",
      "source": [
        "\"\"\"                                                                      PYTHON DIVISION                                                              \"\"\"\n",
        "a,b = int(input()),int(input())\n",
        "print(a//b,a/b,sep=\"\\n\")"
      ],
      "metadata": {
        "colab": {
          "base_uri": "https://localhost:8080/"
        },
        "id": "aw_3jx4d1FmC",
        "outputId": "70eeaef1-efa5-4692-ee29-7afb1a4067b3"
      },
      "execution_count": null,
      "outputs": [
        {
          "output_type": "stream",
          "name": "stdout",
          "text": [
            "4\n",
            "64\n",
            "0\n",
            "0.0625\n"
          ]
        }
      ]
    },
    {
      "cell_type": "code",
      "source": [
        "\"\"\"                                                                           LOOPS                                                                   \"\"\"\n",
        "if __name__ == '__main__':\n",
        "    n = int(input())\n",
        "    for i in range(n):\n",
        "        print(i**2)"
      ],
      "metadata": {
        "colab": {
          "base_uri": "https://localhost:8080/"
        },
        "id": "-GKlf_ay1ZLU",
        "outputId": "ecf41469-2bab-4a07-ddd5-d1a4666cf612"
      },
      "execution_count": null,
      "outputs": [
        {
          "output_type": "stream",
          "name": "stdout",
          "text": [
            "3\n",
            "0\n",
            "1\n",
            "4\n"
          ]
        }
      ]
    },
    {
      "cell_type": "code",
      "source": [
        "\"\"\"                                                                      WRITE A FUNCTION                                                            \"\"\"\n",
        "def is_leap(year):\n",
        "    leap = False\n",
        "    \n",
        "    # Write your logic here\n",
        "    if (year in range(1900,100001)):\n",
        "        return (year%4==0 and (year%400==0 or year%100!=0))\n",
        "    else:\n",
        "        return \"Input constraint didn't match\"\n",
        "    \n",
        "    return leap\n",
        "year = int(input())\n",
        "print(is_leap(year))"
      ],
      "metadata": {
        "colab": {
          "base_uri": "https://localhost:8080/"
        },
        "id": "kWvmKD4r2DK5",
        "outputId": "5cf2521d-74f7-470f-a005-f41d43861af1"
      },
      "execution_count": null,
      "outputs": [
        {
          "output_type": "stream",
          "name": "stdout",
          "text": [
            "1997\n",
            "False\n"
          ]
        }
      ]
    },
    {
      "cell_type": "code",
      "source": [
        "\"\"\"                                                                        PRINT FUNCTION                                                           \"\"\"\n",
        "if __name__ == '__main__':\n",
        "    n = int(input())\n",
        "    if n in range(1,151):\n",
        "        for i in range(1,n+1):\n",
        "            print(i,end=\"\")\n",
        "    else:\n",
        "        print(\"Input Constraint didn't match\")\n"
      ],
      "metadata": {
        "colab": {
          "base_uri": "https://localhost:8080/"
        },
        "id": "Phzsgg4w2lAj",
        "outputId": "79a77824-dbd3-4f23-9b32-f3c8fc0160fb"
      },
      "execution_count": null,
      "outputs": [
        {
          "output_type": "stream",
          "name": "stdout",
          "text": [
            "9\n",
            "123456789"
          ]
        }
      ]
    },
    {
      "cell_type": "code",
      "source": [
        "\"\"\"\n",
        "                                                                      2. BASIC DATA TYPES\n",
        "\n",
        "                                                                    * FIND THE RUNNER UP SCORE                                                          \"\"\"\n",
        "if __name__ == '__main__':\n",
        "    n = int(input())\n",
        "    arr = list(map(int, input().split()))\n",
        "    a=max(arr)\n",
        "    while max(arr)==a:\n",
        "        arr.remove(max(arr))\n",
        "    print(max(arr))    "
      ],
      "metadata": {
        "colab": {
          "base_uri": "https://localhost:8080/"
        },
        "id": "v95QDe8Y3CiB",
        "outputId": "b0a42a66-6093-42eb-ab6b-293985e4eb7a"
      },
      "execution_count": null,
      "outputs": [
        {
          "output_type": "stream",
          "name": "stdout",
          "text": [
            "5\n",
            "2 3 9 10 5\n",
            "9\n"
          ]
        }
      ]
    },
    {
      "cell_type": "code",
      "source": [
        "\"\"\"                                                                   LIST COMPREHENSIONS                                                             \"\"\"\n",
        "\n",
        "if __name__ == '__main__':\n",
        "    x = int(input())\n",
        "    y = int(input())\n",
        "    z = int(input())\n",
        "    n = int(input())\n",
        "\n",
        "    Possible_Coordinates=[[i,j,k] for i in range(x+1) \n",
        "                                  for j in range(y+1) \n",
        "                                  for k in range(z+1)\n",
        "                                  if sum([i+j+k])!=n]\n",
        "    print(Possible_Coordinates)\n"
      ],
      "metadata": {
        "colab": {
          "base_uri": "https://localhost:8080/"
        },
        "id": "fSXCH_Gt6A3X",
        "outputId": "6476ff40-dbf1-4096-c5f3-746ed3f8cfe6"
      },
      "execution_count": null,
      "outputs": [
        {
          "output_type": "stream",
          "name": "stdout",
          "text": [
            "1\n",
            "2\n",
            "1\n",
            "3\n",
            "[[0, 0, 0], [0, 0, 1], [0, 1, 0], [0, 1, 1], [0, 2, 0], [1, 0, 0], [1, 0, 1], [1, 1, 0], [1, 2, 1]]\n"
          ]
        }
      ]
    }
  ]
}